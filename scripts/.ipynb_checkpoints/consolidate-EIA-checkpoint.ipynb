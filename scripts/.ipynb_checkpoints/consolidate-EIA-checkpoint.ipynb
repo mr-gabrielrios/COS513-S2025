{
 "cells": [
  {
   "cell_type": "code",
   "execution_count": 5,
   "id": "c8b370eb-7663-4320-85f0-320b9f5ff14a",
   "metadata": {},
   "outputs": [],
   "source": [
    "import matplotlib.pyplot as plt\n",
    "import os\n",
    "import pandas as pd\n",
    "import xarray as xr"
   ]
  },
  {
   "cell_type": "code",
   "execution_count": 6,
   "id": "949ba626-bf6f-45aa-9a69-bee08d830ed7",
   "metadata": {},
   "outputs": [],
   "source": [
    "dirname = '/Users/gabriel/Documents/princeton/courses/spring_2025/cos_513/assignments/project/data'\n",
    "search_substring = 'net_energy_load'\n",
    "file_extension = 'processed.xls'\n",
    "\n",
    "filenames = [os.path.join(dirname, f) for f in os.listdir(dirname) if\n",
    "             f.endswith(file_extension) and\n",
    "             search_substring in f]"
   ]
  },
  {
   "cell_type": "code",
   "execution_count": 7,
   "id": "9b1d5887-7863-4ea1-94a0-e50f9a9390a6",
   "metadata": {},
   "outputs": [],
   "source": [
    "container = []\n",
    "column_names = ['estimate_type', 'estimate_generation_year', 'year', \n",
    "                'ALL_US', 'FRCC', 'MRO', 'NPCC', 'RFC', 'SERC', 'SPP', 'ERCOT', 'WECC']\n",
    "regions = ['ALL_US', 'FRCC', 'MRO', 'NPCC', 'RFC', 'SERC', 'SPP', 'ERCOT', 'WECC']\n",
    "for filename in filenames:\n",
    "    temp = pd.read_excel(filename, names=column_names).dropna()\n",
    "    container.append(temp)\n",
    "\n",
    "dataset = pd.concat(container)"
   ]
  },
  {
   "cell_type": "code",
   "execution_count": 8,
   "id": "a8e184fc-c6df-4634-b48f-6225fad031a8",
   "metadata": {},
   "outputs": [],
   "source": [
    "power_generation_actual = dataset.loc[dataset['estimate_type'] == 'Actual'].sort_values('estimate_generation_year')\n",
    "power_generation_actual = power_generation_actual.drop(columns=['estimate_type', 'estimate_generation_year']).set_index('year')\n",
    "power_generation_actual = power_generation_actual.astype({c: 'float' for c in power_generation_actual.columns})\n",
    "\n",
    "container = []\n",
    "for nerc_region in power_generation_actual.columns:\n",
    "    DF_TMP = pd.DataFrame(power_generation_actual[nerc_region]).reset_index(names=['year'])\n",
    "    DF_TMP = DF_TMP.rename(columns={nerc_region: 'LOAD'})\n",
    "    DF_TMP['region'] = nerc_region\n",
    "    container.append(DF_TMP)\n",
    "TMP = pd.concat(container)\n",
    "\n",
    "dataset_name = 'EIA'\n",
    "field_name = 'net_energy_load'\n",
    "timestamp_to_str = lambda x: f'{int(x)}0101'\n",
    "start_date_str = timestamp_to_str(power_generation_actual.index.min())\n",
    "end_date_str = timestamp_to_str(power_generation_actual.index.max())\n",
    "\n",
    "storage_dirname = dirname\n",
    "storage_filename = f'dataset-{dataset_name}.field_name-{field_name}.start_date-{start_date_str}.end_date-{end_date_str}.nc'\n",
    "storage_pathname = os.path.join(storage_dirname, storage_filename)\n",
    "TMP.set_index(['region', 'year']).to_xarray().to_netcdf(storage_pathname)"
   ]
  },
  {
   "cell_type": "code",
   "execution_count": null,
   "id": "b217e0e0-fc68-4f4e-9b4f-df0fec613c89",
   "metadata": {},
   "outputs": [],
   "source": []
  }
 ],
 "metadata": {
  "kernelspec": {
   "display_name": "Python 3 (ipykernel)",
   "language": "python",
   "name": "python3"
  },
  "language_info": {
   "codemirror_mode": {
    "name": "ipython",
    "version": 3
   },
   "file_extension": ".py",
   "mimetype": "text/x-python",
   "name": "python",
   "nbconvert_exporter": "python",
   "pygments_lexer": "ipython3",
   "version": "3.10.8"
  }
 },
 "nbformat": 4,
 "nbformat_minor": 5
}
