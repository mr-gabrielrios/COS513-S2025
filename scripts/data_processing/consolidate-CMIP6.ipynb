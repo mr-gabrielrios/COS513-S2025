{
 "cells": [
  {
   "cell_type": "code",
   "execution_count": 2,
   "id": "9d3aa249-c308-4c50-b5c7-3e25f4699dcc",
   "metadata": {},
   "outputs": [],
   "source": [
    "# CDS API\n",
    "import cdsapi\n",
    "\n",
    "# Libraries for working with multi-dimensional arrays\n",
    "import os\n",
    "import numpy as np\n",
    "import xarray as xr\n",
    "import pandas as pd\n",
    "\n",
    "# Libraries for plotting and visualising data\n",
    "import matplotlib.path as mpath\n",
    "import matplotlib.pyplot as plt\n",
    "import cartopy.crs as ccrs"
   ]
  },
  {
   "cell_type": "code",
   "execution_count": 4,
   "id": "28d01a70-cd3a-4879-a932-d6b9c746ec49",
   "metadata": {
    "jupyter": {
     "source_hidden": true
    }
   },
   "outputs": [],
   "source": [
    "def scrape_CDS(scenario: str,\n",
    "               varname: str='near_surface_air_temperature'):\n",
    "\n",
    "    ''' \n",
    "    Method to download historical or future climate data as .zip files. \n",
    "    Variable names (`variable`) must be changed manually. \n",
    "    Reference: https://ecmwf-projects.github.io/copernicus-training-c3s/projections-cmip6.html\n",
    "    '''\n",
    "\n",
    "    # Define experiments\n",
    "    scenarios = ['historical', 'ssp126', 'ssp245', 'ssp585']\n",
    "    assert isinstance(scenario, str) and scenario in scenarios, f\"Data period must be a string and be equal to one of: {scenarios}.\"  \n",
    "    # Define models to use\n",
    "    models = ['hadgem3_gc31_ll', 'ipsl_cm6a_lr', 'mpi_esm1_2_lr', 'ukesm1_0_ll']\n",
    "    # Define year range based on scenario\n",
    "    start_year = 1950 if scenario == 'historical' else 2015\n",
    "    end_year = 2014 if scenario == 'historical' else 2100\n",
    "    \n",
    "    # CDS credentials\n",
    "    URL = 'https://cds.climate.copernicus.eu/api'\n",
    "    KEY = 'aace8601-f557-4b73-a2ab-c45f31cf0085'\n",
    "    output_dirname = '/Users/gabriel/Documents/princeton/courses/spring_2025/cos_513/assignments/project/data'\n",
    "    \n",
    "    c = cdsapi.Client(url=URL, key=KEY)\n",
    "    for model_name in models:\n",
    "        \n",
    "        output_filename = f'cmip6_monthly.{start_year}_{end_year}.{varname}.{model_name}.{scenario}'\n",
    "        print(f'Processing data for {model_name} under scenario {scenario} with eventual output pathname of {os.path.join(output_dirname, output_filename)}.nc')\n",
    "\n",
    "        # Download data from CDS as a ZIP\n",
    "        dataset = \"projections-cmip6\"\n",
    "        request = {\n",
    "            \"temporal_resolution\": \"monthly\",\n",
    "            \"experiment\": scenario,\n",
    "            \"variable\": varname,\n",
    "            \"model\": model_name,\n",
    "            \"year\": [str(year) for year in range(start_year, end_year)],\n",
    "            \"month\": [str(month) for month in range(1, 13)],\n",
    "            \"area\": [50, -130, 0, -50]\n",
    "        }\n",
    "           \n",
    "        if varname in ['relative_humidity']:\n",
    "            request[\"level\"] = [\"1000\"]\n",
    "        \n",
    "        client = cdsapi.Client()\n",
    "        client.retrieve(dataset, request).download()\n",
    "\n",
    "        # Get ZIP and move it\n",
    "        zipfiles = [os.path.join(os.getcwd(), f) for f in os.listdir(os.getcwd()) if\n",
    "                    f.endswith('.zip')]\n",
    "        assert len(zipfiles) == 1, 'Too many .zip files, should just be one.'\n",
    "\n",
    "        os.rename(zipfiles[0],\n",
    "                  os.path.join(output_dirname, 'cds', f'{output_filename}.zip'))"
   ]
  },
  {
   "cell_type": "code",
   "execution_count": 5,
   "id": "6e378a88-7ae6-436b-b022-b2385659b723",
   "metadata": {
    "jupyter": {
     "source_hidden": true
    }
   },
   "outputs": [],
   "source": [
    "def unzip_CDS(dirname: str='/Users/gabriel/Documents/princeton/courses/spring_2025/cos_513/assignments/project/data/cds'):\n",
    "\n",
    "    import zipfile\n",
    "    \n",
    "    ''' Method to unzip data and get netCDF. '''\n",
    "\n",
    "    pathnames = [os.path.join(dirname, f) for f in os.listdir(dirname) if\n",
    "                 f.endswith('.zip')]\n",
    "    target_dirname = '/Users/gabriel/Documents/princeton/courses/spring_2025/cos_513/assignments/project/data'\n",
    "\n",
    "    archive_dirname = os.path.join(dirname, 'archive')\n",
    "    if not os.path.isdir(archive_dirname):\n",
    "        os.mkdir(archive_dirname)\n",
    "\n",
    "    for pathname in pathnames:\n",
    "        print(pathname)\n",
    "        with zipfile.ZipFile(pathname, 'r') as zip_ref:\n",
    "            zip_ref.extractall(dirname)\n",
    "\n",
    "        filename = pathname.split('/')[-1]\n",
    "        ncfiles = [os.path.join(dirname, f) for f in os.listdir(dirname) if\n",
    "                   f.endswith('.nc')]\n",
    "        for ncfile in ncfiles:\n",
    "            print(f'\\t {ncfile}')\n",
    "            os.rename(os.path.join(dirname, ncfile), os.path.join(target_dirname, filename.replace('.zip', '.nc')))"
   ]
  },
  {
   "cell_type": "code",
   "execution_count": 7,
   "id": "d16a0f89-b208-4088-b11f-20f5d0c3c588",
   "metadata": {},
   "outputs": [
    {
     "name": "stderr",
     "output_type": "stream",
     "text": [
      "2025-04-20 13:56:23,363 INFO [2024-09-26T00:00:00] Watch our [Forum](https://forum.ecmwf.int/) for Announcements, news and other discussed topics.\n",
      "2025-04-20 13:56:23,364 WARNING [2024-06-16T00:00:00] CDS API syntax is changed and some keys or parameter names may have also changed. To avoid requests failing, please use the \"Show API request code\" tool on the dataset Download Form to check you are using the correct syntax for your API request.\n"
     ]
    },
    {
     "name": "stdout",
     "output_type": "stream",
     "text": [
      "Processing data for hadgem3_gc31_ll under scenario ssp126 with eventual output pathname of /Users/gabriel/Documents/princeton/courses/spring_2025/cos_513/assignments/project/data/cmip6_monthly.2015_2100.relative_humidity.hadgem3_gc31_ll.ssp126.nc\n"
     ]
    },
    {
     "name": "stderr",
     "output_type": "stream",
     "text": [
      "2025-04-20 13:56:24,259 INFO [2024-09-26T00:00:00] Watch our [Forum](https://forum.ecmwf.int/) for Announcements, news and other discussed topics.\n",
      "2025-04-20 13:56:24,261 WARNING [2024-06-16T00:00:00] CDS API syntax is changed and some keys or parameter names may have also changed. To avoid requests failing, please use the \"Show API request code\" tool on the dataset Download Form to check you are using the correct syntax for your API request.\n",
      "2025-04-20 13:56:25,172 INFO Request ID is 920df7cf-ab4d-4a19-836d-13bdd25bc172\n",
      "2025-04-20 13:56:25,332 INFO status has been updated to accepted\n",
      "2025-04-20 13:56:39,448 INFO status has been updated to running\n",
      "2025-04-20 13:57:16,087 INFO status has been updated to successful\n"
     ]
    },
    {
     "data": {
      "application/vnd.jupyter.widget-view+json": {
       "model_id": "",
       "version_major": 2,
       "version_minor": 0
      },
      "text/plain": [
       "cd063f5bba3d178e6525538aebe3e7fd.zip:   0%|          | 0.00/3.49M [00:00<?, ?B/s]"
      ]
     },
     "metadata": {},
     "output_type": "display_data"
    },
    {
     "name": "stdout",
     "output_type": "stream",
     "text": [
      "Processing data for ipsl_cm6a_lr under scenario ssp126 with eventual output pathname of /Users/gabriel/Documents/princeton/courses/spring_2025/cos_513/assignments/project/data/cmip6_monthly.2015_2100.relative_humidity.ipsl_cm6a_lr.ssp126.nc\n"
     ]
    },
    {
     "name": "stderr",
     "output_type": "stream",
     "text": [
      "2025-04-20 13:57:18,716 INFO [2024-09-26T00:00:00] Watch our [Forum](https://forum.ecmwf.int/) for Announcements, news and other discussed topics.\n",
      "2025-04-20 13:57:18,720 WARNING [2024-06-16T00:00:00] CDS API syntax is changed and some keys or parameter names may have also changed. To avoid requests failing, please use the \"Show API request code\" tool on the dataset Download Form to check you are using the correct syntax for your API request.\n",
      "2025-04-20 13:57:19,582 INFO Request ID is b0e13ff7-5178-4ad2-8f5f-f399936b8632\n",
      "2025-04-20 13:57:19,816 INFO status has been updated to accepted\n",
      "2025-04-20 13:57:41,976 INFO status has been updated to running\n",
      "2025-04-20 13:57:53,574 INFO status has been updated to successful\n"
     ]
    },
    {
     "data": {
      "application/vnd.jupyter.widget-view+json": {
       "model_id": "",
       "version_major": 2,
       "version_minor": 0
      },
      "text/plain": [
       "f23d7e17d972332bf561b7876bfd3ace.zip:   0%|          | 0.00/3.66M [00:00<?, ?B/s]"
      ]
     },
     "metadata": {},
     "output_type": "display_data"
    },
    {
     "name": "stdout",
     "output_type": "stream",
     "text": [
      "Processing data for mpi_esm1_2_lr under scenario ssp126 with eventual output pathname of /Users/gabriel/Documents/princeton/courses/spring_2025/cos_513/assignments/project/data/cmip6_monthly.2015_2100.relative_humidity.mpi_esm1_2_lr.ssp126.nc\n"
     ]
    },
    {
     "name": "stderr",
     "output_type": "stream",
     "text": [
      "2025-04-20 13:57:56,214 INFO [2024-09-26T00:00:00] Watch our [Forum](https://forum.ecmwf.int/) for Announcements, news and other discussed topics.\n",
      "2025-04-20 13:57:56,217 WARNING [2024-06-16T00:00:00] CDS API syntax is changed and some keys or parameter names may have also changed. To avoid requests failing, please use the \"Show API request code\" tool on the dataset Download Form to check you are using the correct syntax for your API request.\n",
      "2025-04-20 13:57:57,140 INFO Request ID is 6bef538c-29f0-4fbd-95ff-4fe8e3b6bc7a\n",
      "2025-04-20 13:57:57,287 INFO status has been updated to accepted\n",
      "2025-04-20 13:58:06,176 INFO status has been updated to running\n",
      "2025-04-20 13:58:48,045 INFO status has been updated to successful\n"
     ]
    },
    {
     "data": {
      "application/vnd.jupyter.widget-view+json": {
       "model_id": "",
       "version_major": 2,
       "version_minor": 0
      },
      "text/plain": [
       "307406f12583d929c02cec2997afb136.zip:   0%|          | 0.00/3.33M [00:00<?, ?B/s]"
      ]
     },
     "metadata": {},
     "output_type": "display_data"
    },
    {
     "name": "stdout",
     "output_type": "stream",
     "text": [
      "Processing data for ukesm1_0_ll under scenario ssp126 with eventual output pathname of /Users/gabriel/Documents/princeton/courses/spring_2025/cos_513/assignments/project/data/cmip6_monthly.2015_2100.relative_humidity.ukesm1_0_ll.ssp126.nc\n"
     ]
    },
    {
     "name": "stderr",
     "output_type": "stream",
     "text": [
      "2025-04-20 13:58:50,735 INFO [2024-09-26T00:00:00] Watch our [Forum](https://forum.ecmwf.int/) for Announcements, news and other discussed topics.\n",
      "2025-04-20 13:58:50,737 WARNING [2024-06-16T00:00:00] CDS API syntax is changed and some keys or parameter names may have also changed. To avoid requests failing, please use the \"Show API request code\" tool on the dataset Download Form to check you are using the correct syntax for your API request.\n",
      "2025-04-20 13:58:51,551 INFO Request ID is ca353e90-1c05-4911-8f8d-75ff357acd99\n",
      "2025-04-20 13:58:51,716 INFO status has been updated to accepted\n",
      "2025-04-20 13:59:06,223 INFO status has been updated to running\n",
      "2025-04-20 13:59:42,813 INFO status has been updated to successful\n"
     ]
    },
    {
     "data": {
      "application/vnd.jupyter.widget-view+json": {
       "model_id": "",
       "version_major": 2,
       "version_minor": 0
      },
      "text/plain": [
       "ddf9ac9f813a75bdeb9b57346ca97a6d.zip:   0%|          | 0.00/3.51M [00:00<?, ?B/s]"
      ]
     },
     "metadata": {},
     "output_type": "display_data"
    },
    {
     "name": "stdout",
     "output_type": "stream",
     "text": [
      "/Users/gabriel/Documents/princeton/courses/spring_2025/cos_513/assignments/project/data/cds/cmip6_monthly.2015_2100.near_surface_air_temperature.ukesm1_0_ll.ssp585.zip\n",
      "\t /Users/gabriel/Documents/princeton/courses/spring_2025/cos_513/assignments/project/data/cds/tas_Amon_UKESM1-0-LL_ssp585_r1i1p1f2_gn_20150116-20991216.nc\n",
      "/Users/gabriel/Documents/princeton/courses/spring_2025/cos_513/assignments/project/data/cds/cmip6_monthly.1950_2014.near_surface_air_temperature.hadgem3_gc31_ll.historical.zip\n",
      "\t /Users/gabriel/Documents/princeton/courses/spring_2025/cos_513/assignments/project/data/cds/tas_Amon_HadGEM3-GC31-LL_historical_r1i1p1f3_gn_19500116-20131216.nc\n",
      "/Users/gabriel/Documents/princeton/courses/spring_2025/cos_513/assignments/project/data/cds/cmip6_monthly.2015_2100.relative_humidity.mpi_esm1_2_lr.ssp126.zip\n",
      "\t /Users/gabriel/Documents/princeton/courses/spring_2025/cos_513/assignments/project/data/cds/hur_Amon_MPI-ESM1-2-LR_ssp126_r1i1p1f1_gn_20150116-20991216.nc\n",
      "/Users/gabriel/Documents/princeton/courses/spring_2025/cos_513/assignments/project/data/cds/cmip6_monthly.1950_2014.relative_humidity.ukesm1_0_ll.historical.zip\n",
      "\t /Users/gabriel/Documents/princeton/courses/spring_2025/cos_513/assignments/project/data/cds/hur_Amon_UKESM1-0-LL_historical_r1i1p1f2_gn_19500116-20131216.nc\n",
      "/Users/gabriel/Documents/princeton/courses/spring_2025/cos_513/assignments/project/data/cds/cmip6_monthly.2015_2100.near_surface_air_temperature.mpi_esm1_2_lr.ssp126.zip\n",
      "\t /Users/gabriel/Documents/princeton/courses/spring_2025/cos_513/assignments/project/data/cds/tas_Amon_MPI-ESM1-2-LR_ssp126_r1i1p1f1_gn_20150116-20991216.nc\n",
      "/Users/gabriel/Documents/princeton/courses/spring_2025/cos_513/assignments/project/data/cds/cmip6_monthly.1950_2014.near_surface_air_temperature.ipsl_cm6a_lr.historical.zip\n",
      "\t /Users/gabriel/Documents/princeton/courses/spring_2025/cos_513/assignments/project/data/cds/tas_Amon_IPSL-CM6A-LR_historical_r1i1p1f1_gr_19500116-20131216.nc\n",
      "/Users/gabriel/Documents/princeton/courses/spring_2025/cos_513/assignments/project/data/cds/cmip6_monthly.2015_2100.near_surface_air_temperature.mpi_esm1_2_lr.ssp585.zip\n",
      "\t /Users/gabriel/Documents/princeton/courses/spring_2025/cos_513/assignments/project/data/cds/tas_Amon_MPI-ESM1-2-LR_ssp585_r1i1p1f1_gn_20150116-20991216.nc\n",
      "/Users/gabriel/Documents/princeton/courses/spring_2025/cos_513/assignments/project/data/cds/cmip6_monthly.2015_2100.relative_humidity.ipsl_cm6a_lr.ssp126.zip\n",
      "\t /Users/gabriel/Documents/princeton/courses/spring_2025/cos_513/assignments/project/data/cds/hur_Amon_IPSL-CM6A-LR_ssp126_r1i1p1f1_gr_20150116-20991216.nc\n",
      "/Users/gabriel/Documents/princeton/courses/spring_2025/cos_513/assignments/project/data/cds/cmip6_monthly.2015_2100.relative_humidity.ukesm1_0_ll.ssp126.zip\n",
      "\t /Users/gabriel/Documents/princeton/courses/spring_2025/cos_513/assignments/project/data/cds/hur_Amon_UKESM1-0-LL_ssp126_r1i1p1f2_gn_20150116-20991216.nc\n",
      "/Users/gabriel/Documents/princeton/courses/spring_2025/cos_513/assignments/project/data/cds/cmip6_monthly.2015_2100.near_surface_air_temperature.ukesm1_0_ll.ssp126.zip\n",
      "\t /Users/gabriel/Documents/princeton/courses/spring_2025/cos_513/assignments/project/data/cds/tas_Amon_UKESM1-0-LL_ssp126_r1i1p1f2_gn_20150116-20991216.nc\n",
      "/Users/gabriel/Documents/princeton/courses/spring_2025/cos_513/assignments/project/data/cds/cmip6_monthly.2015_2100.relative_humidity.hadgem3_gc31_ll.ssp126.zip\n",
      "\t /Users/gabriel/Documents/princeton/courses/spring_2025/cos_513/assignments/project/data/cds/hur_Amon_HadGEM3-GC31-LL_ssp126_r1i1p1f3_gn_20150116-20991216.nc\n",
      "/Users/gabriel/Documents/princeton/courses/spring_2025/cos_513/assignments/project/data/cds/cmip6_monthly.1950_2014.relative_humidity.ipsl_cm6a_lr.historical.zip\n",
      "\t /Users/gabriel/Documents/princeton/courses/spring_2025/cos_513/assignments/project/data/cds/hur_Amon_IPSL-CM6A-LR_historical_r1i1p1f1_gr_19500116-20131216.nc\n",
      "/Users/gabriel/Documents/princeton/courses/spring_2025/cos_513/assignments/project/data/cds/cmip6_monthly.2015_2100.near_surface_air_temperature.hadgem3_gc31_ll.ssp585.zip\n",
      "\t /Users/gabriel/Documents/princeton/courses/spring_2025/cos_513/assignments/project/data/cds/tas_Amon_HadGEM3-GC31-LL_ssp585_r1i1p1f3_gn_20150116-20991216.nc\n",
      "/Users/gabriel/Documents/princeton/courses/spring_2025/cos_513/assignments/project/data/cds/cmip6_monthly.1950_2014.relative_humidity.mpi_esm1_2_lr.historical.zip\n",
      "\t /Users/gabriel/Documents/princeton/courses/spring_2025/cos_513/assignments/project/data/cds/hur_Amon_MPI-ESM1-2-LR_historical_r1i1p1f1_gn_19500116-20131216.nc\n",
      "/Users/gabriel/Documents/princeton/courses/spring_2025/cos_513/assignments/project/data/cds/cmip6_monthly.2015_2100.near_surface_air_temperature.ipsl_cm6a_lr.ssp126.zip\n",
      "\t /Users/gabriel/Documents/princeton/courses/spring_2025/cos_513/assignments/project/data/cds/tas_Amon_IPSL-CM6A-LR_ssp126_r1i1p1f1_gr_20150116-20991216.nc\n",
      "/Users/gabriel/Documents/princeton/courses/spring_2025/cos_513/assignments/project/data/cds/cmip6_monthly.1950_2014.near_surface_air_temperature.mpi_esm1_2_lr.historical.zip\n",
      "\t /Users/gabriel/Documents/princeton/courses/spring_2025/cos_513/assignments/project/data/cds/tas_Amon_MPI-ESM1-2-LR_historical_r1i1p1f1_gn_19500116-20131216.nc\n",
      "/Users/gabriel/Documents/princeton/courses/spring_2025/cos_513/assignments/project/data/cds/cmip6_monthly.1950_2014.near_surface_air_temperature.ukesm1_0_ll.historical.zip\n",
      "\t /Users/gabriel/Documents/princeton/courses/spring_2025/cos_513/assignments/project/data/cds/tas_Amon_UKESM1-0-LL_historical_r1i1p1f2_gn_19500116-20131216.nc\n",
      "\t /Users/gabriel/Documents/princeton/courses/spring_2025/cos_513/assignments/project/data/cds/tas_Amon_UKESM1-0-LL_historical_r13i1p1f2_gn_19500116-20131216.nc\n",
      "/Users/gabriel/Documents/princeton/courses/spring_2025/cos_513/assignments/project/data/cds/cmip6_monthly.2015_2100.near_surface_air_temperature.ipsl_cm6a_lr.ssp585.zip\n",
      "\t /Users/gabriel/Documents/princeton/courses/spring_2025/cos_513/assignments/project/data/cds/tas_Amon_IPSL-CM6A-LR_ssp585_r1i1p1f1_gr_20150116-20991216.nc\n",
      "/Users/gabriel/Documents/princeton/courses/spring_2025/cos_513/assignments/project/data/cds/cmip6_monthly.2015_2100.near_surface_air_temperature.hadgem3_gc31_ll.ssp126.zip\n",
      "\t /Users/gabriel/Documents/princeton/courses/spring_2025/cos_513/assignments/project/data/cds/tas_Amon_HadGEM3-GC31-LL_ssp126_r1i1p1f3_gn_20150116-20991216.nc\n",
      "/Users/gabriel/Documents/princeton/courses/spring_2025/cos_513/assignments/project/data/cds/cmip6_monthly.1950_2014.relative_humidity.hadgem3_gc31_ll.historical.zip\n",
      "\t /Users/gabriel/Documents/princeton/courses/spring_2025/cos_513/assignments/project/data/cds/hur_Amon_HadGEM3-GC31-LL_historical_r1i1p1f3_gn_19500116-20131216.nc\n"
     ]
    }
   ],
   "source": [
    "scrape_CDS(scenario='ssp126', varname='relative_humidity')\n",
    "unzip_CDS()"
   ]
  },
  {
   "cell_type": "code",
   "execution_count": null,
   "id": "c6bf6fa0-7a01-4f8d-92a7-7607b6b90078",
   "metadata": {},
   "outputs": [],
   "source": []
  }
 ],
 "metadata": {
  "kernelspec": {
   "display_name": "Python 3 (ipykernel)",
   "language": "python",
   "name": "python3"
  },
  "language_info": {
   "codemirror_mode": {
    "name": "ipython",
    "version": 3
   },
   "file_extension": ".py",
   "mimetype": "text/x-python",
   "name": "python",
   "nbconvert_exporter": "python",
   "pygments_lexer": "ipython3",
   "version": "3.10.8"
  }
 },
 "nbformat": 4,
 "nbformat_minor": 5
}
