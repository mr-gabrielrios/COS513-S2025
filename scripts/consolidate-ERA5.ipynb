{
 "cells": [
  {
   "cell_type": "code",
   "execution_count": 1,
   "id": "6ba36891-9276-47a6-8ef8-d1de9f5b4735",
   "metadata": {},
   "outputs": [],
   "source": [
    "import datetime\n",
    "import os\n",
    "import pandas as pd\n",
    "import xarray as xr"
   ]
  },
  {
   "cell_type": "markdown",
   "id": "b8636593-a61a-423b-a72e-546c893e01e9",
   "metadata": {},
   "source": [
    "### Consolidate ERA5 datasets"
   ]
  },
  {
   "cell_type": "code",
   "execution_count": 4,
   "id": "745e7779-6b10-47af-945b-71c9b39b40e5",
   "metadata": {},
   "outputs": [],
   "source": [
    "def save_to_netcdf(dataset: xr.Dataset,\n",
    "                   dataset_name: str,\n",
    "                   field_name: str,\n",
    "                   storage_dirname: str):\n",
    "    \n",
    "    timestamp_to_str = lambda x: pd.to_datetime(x.values).strftime('%Y%m%d')\n",
    "    start_date_str = timestamp_to_str(dataset.valid_time.min())\n",
    "    end_date_str = timestamp_to_str(dataset.valid_time.max())\n",
    "    \n",
    "    storage_filename = f'dataset-{dataset_name}.field_name-{field_name}.start_date-{start_date_str}.end_date-{end_date_str}.nc'\n",
    "    storage_pathname = os.path.join(storage_dirname, storage_filename)\n",
    "    dataset.load().to_netcdf(storage_pathname)"
   ]
  },
  {
   "cell_type": "code",
   "execution_count": 3,
   "id": "9b6bfdb6-97d8-4d07-9e18-2184ed7d1941",
   "metadata": {},
   "outputs": [],
   "source": [
    "dirname = '/Users/gabriel/Documents/princeton/courses/spring_2025/cos_513/assignments/project/data'\n",
    "pathnames = [os.path.join(dirname, f) for f in os.listdir(dirname) if f.endswith('.nc')]\n",
    "ERA5_dataset = xr.open_mfdataset(pathnames)"
   ]
  },
  {
   "cell_type": "code",
   "execution_count": 5,
   "id": "61fb747a-ad6a-4f76-b08a-06e83ffd1e6f",
   "metadata": {},
   "outputs": [],
   "source": [
    "save_to_netcdf(ERA5_dataset,\n",
    "               dataset_name='ERA5',\n",
    "               field_name='t2m',\n",
    "               storage_dirname=dirname)"
   ]
  },
  {
   "cell_type": "code",
   "execution_count": null,
   "id": "4ed4a2dd-3c2b-486a-92e6-265959176d6e",
   "metadata": {},
   "outputs": [],
   "source": []
  }
 ],
 "metadata": {
  "kernelspec": {
   "display_name": "Python 3 (ipykernel)",
   "language": "python",
   "name": "python3"
  },
  "language_info": {
   "codemirror_mode": {
    "name": "ipython",
    "version": 3
   },
   "file_extension": ".py",
   "mimetype": "text/x-python",
   "name": "python",
   "nbconvert_exporter": "python",
   "pygments_lexer": "ipython3",
   "version": "3.10.8"
  }
 },
 "nbformat": 4,
 "nbformat_minor": 5
}
